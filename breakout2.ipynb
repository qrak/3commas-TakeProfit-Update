{
  "nbformat": 4,
  "nbformat_minor": 0,
  "metadata": {
    "colab": {
      "provenance": [],
      "authorship_tag": "ABX9TyN4D51Q5fzNjXKXFyeHVAMV",
      "include_colab_link": true
    },
    "kernelspec": {
      "name": "python3",
      "display_name": "Python 3"
    },
    "language_info": {
      "name": "python"
    },
    "accelerator": "GPU",
    "gpuClass": "standard"
  },
  "cells": [
    {
      "cell_type": "markdown",
      "metadata": {
        "id": "view-in-github",
        "colab_type": "text"
      },
      "source": [
        "<a href=\"https://colab.research.google.com/github/qrak/3commas-TakeProfit-Update/blob/master/breakout2.ipynb\" target=\"_parent\"><img src=\"https://colab.research.google.com/assets/colab-badge.svg\" alt=\"Open In Colab\"/></a>"
      ]
    },
    {
      "cell_type": "code",
      "source": [
        "!pip install nest_asyncio\n",
        "\n"
      ],
      "metadata": {
        "colab": {
          "base_uri": "https://localhost:8080/"
        },
        "id": "cekhcyUlE2Vm",
        "outputId": "125d04ee-e049-49da-927c-f0846985897e"
      },
      "execution_count": 7,
      "outputs": [
        {
          "output_type": "stream",
          "name": "stdout",
          "text": [
            "Looking in indexes: https://pypi.org/simple, https://us-python.pkg.dev/colab-wheels/public/simple/\n",
            "Requirement already satisfied: nest_asyncio in /usr/local/lib/python3.9/dist-packages (1.5.6)\n"
          ]
        }
      ]
    },
    {
      "cell_type": "code",
      "source": [
        "import ccxt\n",
        "import ccxt.pro as ccxtpro\n",
        "import asyncio\n",
        "import nest_asyncio\n",
        "from datetime import datetime\n",
        "\n",
        "nest_asyncio.apply()\n",
        "\n",
        "exchange = ccxtpro.bitget({\n",
        "    'enableRateLimit': True,\n",
        "})\n",
        "\n",
        "async def get_average_volume(pair, timeframe='1m', num_candles=5):\n",
        "    try:\n",
        "        candles = await exchange.fetch_ohlcv(pair, timeframe, limit=num_candles)\n",
        "    except ccxt.ExchangeError as e:\n",
        "        raise Exception(f\"Error fetching OHLCV data for {pair}: {str(e)}\")\n",
        "\n",
        "    if not candles or len(candles) < num_candles:\n",
        "        raise Exception(f\"Insufficient OHLCV data for {pair}\")\n",
        "\n",
        "    volumes = [c[5] for c in candles]\n",
        "    return sum(volumes[:-1]) / (len(volumes) - 1), volumes[-1]\n",
        "\n",
        "\n",
        "async def breakout_strategy():\n",
        "    try:\n",
        "        print(\"Loading markets...\")\n",
        "        symbols = await exchange.load_markets()\n",
        "        print(\"Markets loaded.\")\n",
        "\n",
        "        trading_pairs = [symbol for symbol in symbols if symbol.endswith('/USDT')]\n",
        "        print(f\"Trading pairs: {trading_pairs}\")\n",
        "\n",
        "        min_usdt_volume = 1000000\n",
        "        for pair in trading_pairs:\n",
        "            try:\n",
        "                average_volume, current_volume = await get_average_volume(pair)\n",
        "            except Exception as e:\n",
        "                print(f\"Error getting average volume for {pair}: {e}\")\n",
        "                continue\n",
        "\n",
        "            if current_volume < min_usdt_volume:\n",
        "                continue  # Skip the pair if its current volume is below the minimum threshold\n",
        "\n",
        "            ticker = await exchange.fetch_ticker(pair)\n",
        "            last_price = ticker['last']\n",
        "            prev_close_price = ticker['close']\n",
        "\n",
        "            volume_spike_threshold = 2\n",
        "            price_spike_threshold = 1.02\n",
        "\n",
        "            if current_volume > volume_spike_threshold * average_volume:\n",
        "                print(f\"Volume spike detected for {pair}\")\n",
        "                orderbook = await exchange.fetch_order_book(pair)\n",
        "                bid_price, bid_volume = orderbook['bids'][0]\n",
        "                prev_bid_price, prev_bid_volume = orderbook['bids'][1]\n",
        "\n",
        "                if bid_price > price_spike_threshold * last_price and bid_price > prev_bid_price and bid_volume > prev_bid_volume and last_price > prev_close_price:\n",
        "                    print(f'{datetime.now()} - Breakout detected for {pair}: {bid_price} USDT')\n",
        "\n",
        "    except Exception as e:\n",
        "        print(f'Error: {e}')\n",
        "        await exchange.close()\n",
        "\n",
        "\n",
        "async def main():\n",
        "    try:\n",
        "        while True:\n",
        "            async with exchange:\n",
        "                await breakout_strategy()\n",
        "                await asyncio.sleep(60)\n",
        "    except KeyboardInterrupt:\n",
        "        print(\"Stopping the script.\")\n",
        "    finally:\n",
        "        await exchange.close()\n",
        "\n",
        "loop = asyncio.get_event_loop()\n",
        "loop.run_until_complete(main())\n",
        "\n",
        "\n",
        "\n"
      ],
      "metadata": {
        "id": "y5C-xTD28rGR",
        "colab": {
          "base_uri": "https://localhost:8080/"
        },
        "outputId": "4e0c09b1-e964-4bf3-9298-25d8273eba6a"
      },
      "execution_count": null,
      "outputs": [
        {
          "output_type": "stream",
          "name": "stdout",
          "text": [
            "Loading markets...\n",
            "Markets loaded.\n",
            "Trading pairs: ['TRX/USDT', 'LINK/USDT', 'UNI/USDT', 'SUSHI/USDT', 'COMP/USDT', 'AAVE/USDT', 'YFI/USDT', 'DOGE/USDT', 'CHZ/USDT', 'ID/USDT', 'FAST/USDT', 'PRY/USDT', 'ARB/USDT', 'STABLZ/USDT', 'GCAKE/USDT', 'CAPS/USDT', 'TAO/USDT', 'FIS/USDT', 'GRV/USDT', 'TVK/USDT', 'BONE/USDT', 'WOOF/USDT', 'RDNT/USDT', 'GRAIL/USDT', 'AGIX/USDT', 'AI/USDT', 'IMGNAI/USDT', 'ORAI/USDT', 'ALI/USDT', 'PSI/USDT', 'ARBINU/USDT', 'ZYB/USDT', 'CORE/USDT', 'GFT/USDT', 'DPX/USDT', 'PLS/USDT', 'CAI/USDT', 'ONE/USDT', 'JONES/USDT', 'SSV/USDT', 'BFR/USDT', 'WAXL/USDT', 'THENA/USDT', 'IDEX/USDT', 'BRISE/USDT', 'INJ/USDT', 'MDAO/USDT', 'IOTX/USDT', 'CHESS/USDT', 'IQ/USDT', 'THALES/USDT', 'KEY/USDT', 'CTR/USDT', 'KOK/USDT', 'ETHF/USDT', 'HAMI/USDT', 'VELA/USDT', 'ARG/USDT', 'BLUR/USDT', 'EURT/USDT', 'GMX/USDT', 'XAUT/USDT', 'VINU/USDT', 'JPEG/USDT', 'LEVER/USDT', 'RARE/USDT', 'LIT/USDT', 'IGU/USDT', 'LOKA/USDT', 'TRU/USDT', 'LOOM/USDT', 'XEN/USDT', 'SUDO/USDT', 'BBO/USDT', 'MTL/USDT', 'ZZ/USDT', 'CFX/USDT', 'MIR/USDT', 'MDT/USDT', 'MINA/USDT', 'VELO/USDT', 'MITH/USDT', 'COCOS/USDT', 'SFP/USDT', 'OAX/USDT', 'MXC/USDT', 'MUTE/USDT', 'MFT/USDT', 'STORE/USDT', 'NU/USDT', 'NMR/USDT', 'TROVE/USDT', 'WOM/USDT', 'NEBL/USDT', 'LVL/USDT', 'OXT/USDT', 'LQTY/USDT', 'ORN/USDT', 'VSTA/USDT', 'OG/USDT', 'LYRA/USDT', 'VEMP/USDT', 'GMD/USDT', 'POLY/USDT', 'RDPX/USDT', 'LUFFY/USDT', 'PLA/USDT', 'COLLAB/USDT', 'LAT/USDT', 'POWR/USDT', 'OPX/USDT', 'OLE/USDT', 'PYR/USDT', 'PUNDIX/USDT', 'KWENTA/USDT', 'PAW/USDT', 'POND/USDT', 'LEASH/USDT', 'PROM/USDT', 'NEO/USDT', 'BNX/USDT', 'PHB/USDT', 'FLM/USDT', 'OSMO/USDT', 'OGV/USDT', 'PERL/USDT', 'QLC/USDT', 'JUNO/USDT', 'SLG/USDT', 'QKC/USDT', 'SONNE/USDT', 'ZIL/USDT', 'SYS/USDT', 'QNT/USDT', 'AZERO/USDT', 'XETA/USDT', 'ROUTE/USDT', 'KAKI/USDT', 'AURORA/USDT', 'DAO/USDT', 'REP/USDT', 'PRIME1/USDT', 'NEXO/USDT', 'CMP/USDT', 'APT/USDT', 'AMP/USDT', 'XCAD/USDT', 'SAITAMA/USDT', 'CEL/USDT', 'CSPR/USDT', 'LPT/USDT', 'SPOOL/USDT', 'PEPES/USDT', 'SNM/USDT', 'ELON/USDT', 'SNT/USDT', 'VXL/USDT', 'PAXG/USDT', 'ALPACA/USDT', 'VAI/USDT', 'VLX/USDT', 'TUP/USDT', 'STMX/USDT', 'HALO/USDT', 'VGX/USDT', 'STPT/USDT', 'OPTIMUS/USDT', 'TEL/USDT', 'ZIG/USDT', 'SUPER/USDT', 'ASTR/USDT', 'SYN/USDT', 'VELO1/USDT', 'HUB/USDT', 'T/USDT', 'STX/USDT', 'STC/USDT', 'TRB/USDT', 'PSG/USDT', 'NFT/USDT', 'FON/USDT', 'GLTR/USDT', 'TWT/USDT', 'GPT/USDT', 'ACM/USDT', 'TAMA/USDT', 'SMART/USDT', 'TUSD/USDT', 'BAR/USDT', 'THE/USDT', 'AURA1/USDT', 'VISION/USDT', 'PORTO/USDT', 'UNFI/USDT', 'BTT/USDT', 'LAZIO/USDT', 'VIB/USDT', 'GFAL/USDT', 'SANTOS/USDT', 'WAVES/USDT', 'KIN/USDT', 'GLM/USDT', 'CITY/USDT', 'XCN/USDT', 'MOVER/USDT', 'NYM/USDT', 'ASR/USDT', 'XPR/USDT', 'SOS/USDT', 'NOM/USDT', 'ATM/USDT', 'ITA/USDT', 'FOR/USDT', 'GST/USDT', 'MCRT/USDT', 'RED/USDT', 'POR/USDT', 'VT/USDT', 'CST/USDT', 'DZOO/USDT', 'RJV/USDT', 'TRIVIA/USDT', 'GDX/USDT', 'GVR/USDT', 'TEM/USDT', 'FLUX/USDT', 'JNS/USDT', 'REEF/USDT', 'PIT/USDT', 'SETF1001/USDT', 'VRA/USDT', 'INTER/USDT', 'RAD/USDT', 'HEX/USDT', 'LSD/USDT', 'MOONEY/USDT', 'TRA/USDT', 'HFT/USDT', 'OATH/USDT', 'FITFI/USDT', 'AFC/USDT', 'ARBETF/USDT', 'ROSE/USDT', 'NAP/USDT', 'RON/USDT', 'BEND/USDT', 'MENGO/USDT', 'IPOR/USDT', 'XMON/USDT', 'MOON/USDT', 'ONT/USDT', 'TSUKA/USDT', 'XEM/USDT', 'NEAR/USDT', 'WING/USDT', 'CANTO/USDT', 'ONG/USDT', 'SKEB/USDT', 'PUMLX/USDT', 'GAL/USDT', 'SWEAT/USDT', 'HOOK/USDT', 'LOOKS/USDT', 'STRM/USDT', 'LING/USDT', 'REVV/USDT', 'PRIMAL/USDT', 'DAI/USDT', 'AMPL/USDT', 'AGLD/USDT', 'KAVA/USDT', 'PEOPLE/USDT', 'HNT/USDT', 'ETHW/USDT', 'DYDX/USDT', 'OAS/USDT', 'RLY/USDT', 'PPAD/USDT', 'FET/USDT', 'CELR/USDT', 'GEAR/USDT', 'ABT/USDT', 'RACA/USDT', 'BONK/USDT', 'AERGO/USDT', 'BETA/USDT', 'SHILL/USDT', 'AKRO/USDT', 'METIS/USDT', 'KUNCI/USDT', 'MBOX/USDT', 'ACA/USDT', 'AXS/USDT', 'HIGH/USDT', 'GNS/USDT', 'APM/USDT', 'TIME/USDT', 'CUSD/USDT', 'AUCTION/USDT', 'ALPHA/USDT', 'PRIME/USDT', 'ACH/USDT', 'QRDO/USDT', 'ALPINE/USDT', 'SLP/USDT', 'BADGER/USDT', 'GALA/USDT', 'BABYDOGE/USDT', 'MULTI/USDT', 'BICO/USDT', 'DERC/USDT', 'JUV/USDT', 'WIRTUAL/USDT', 'BLZ/USDT', 'SAND/USDT', 'KLAY/USDT', 'GALFAN/USDT', 'BOND/USDT', 'ALICE/USDT', 'USDC/USDT', 'BTM/USDT', 'TLM/USDT', 'RPL/USDT', 'AUDIO/USDT', 'BURGER/USDT', 'C98/USDT', 'TLOS/USDT', 'LINA/USDT', 'ENJ/USDT', 'MANA/USDT', 'XRP/USDT', 'BTC/USDT', 'ETH/USDT', 'LTC/USDT', 'BCH/USDT', 'BAKE/USDT', 'BTCST/USDT', 'ILV/USDT', 'BORA/USDT', 'WEMIX/USDT', 'BEL/USDT', 'EDEN/USDT', 'CTSI/USDT', 'CVC/USDT', 'RSS3/USDT', 'PLEX/USDT', 'ANT/USDT', 'DFI/USDT', 'BOTTO/USDT', 'ARPA/USDT', 'DORA/USDT', 'BUSD/USDT', 'DREP/USDT', 'DUSK/USDT', 'ETC/USDT', 'EOS/USDT', 'SHIB/USDT', 'MATIC/USDT', '1INCH/USDT', 'MKR/USDT', 'REN/USDT', 'UMA/USDT', 'ZRX/USDT', 'KDA/USDT', 'ELF/USDT', 'X2Y2/USDT', 'FRONT/USDT', 'ATLAS/USDT', 'FTM/USDT', 'LUNC/USDT', 'GF/USDT', 'WOO/USDT', 'USTC/USDT', 'TAP/USDT', 'SXP/USDT', 'GHST/USDT', 'FTT/USDT', 'OP/USDT', 'GNO/USDT', 'GODS/USDT', 'WIN/USDT', 'GTC/USDT', 'UFO/USDT', 'SUN/USDT', 'EVMOS/USDT', 'GLMR/USDT', 'STARL/USDT', 'PSTAKE/USDT', 'DOT/USDT', 'AR/USDT', 'ATOM/USDT', 'IMX/USDT', 'LRC/USDT', 'BAL/USDT', 'BNT/USDT', 'CRV/USDT', 'BAT/USDT', 'YFII/USDT', 'WNXM/USDT', 'STORJ/USDT', 'SNX/USDT', 'CEUR/USDT', 'PERP/USDT', 'MOVEZ/USDT', 'LUNA/USDT', 'HOP/USDT', 'MOVR/USDT', 'AFK/USDT', 'ENS/USDT', 'WILD/USDT', 'FORT/USDT', 'POLC/USDT', 'OVR/USDT', 'QTUM/USDT', 'OMG/USDT', 'KNC/USDT', 'BAND/USDT', 'GRT/USDT', 'VOLT/USDT', 'GMT/USDT', 'BOO/USDT', 'SD/USDT', 'AVAX/USDT', 'MAGIC/USDT', 'JOE/USDT', 'ZBC/USDT', 'QUICK/USDT', 'KSM/USDT', 'WLKN/USDT', 'APE/USDT', 'EUL/USDT', 'KP3R/USDT', 'EFI/USDT', 'CYCLUB/USDT', 'EUROC/USDT', 'CRO/USDT', 'DOTR/USDT', 'OCEAN/USDT', 'NKN/USDT', 'WBTC/USDT', 'RLC/USDT', 'OGN/USDT', 'CAKE/USDT', 'BNB/USDT', 'CHR/USDT', 'ANKR/USDT', 'SRM/USDT', 'ABBC/USDT', 'XDC/USDT', 'ADA/USDT', 'RBN/USDT', 'JASMY/USDT', 'DAR/USDT', 'XYM/USDT', 'TONCOIN/USDT', 'NPT/USDT', 'GINOA/USDT', 'WND/USDT', 'BOT/USDT', 'VVS/USDT', 'RSR/USDT', 'JST/USDT', 'ICP/USDT', 'EGLD/USDT', 'KNOT/USDT', 'STG/USDT', 'CVX/USDT', 'RUNE/USDT', 'SPELL/USDT', 'RAY/USDT', 'SIN/USDT', 'BSW/USDT', 'DODO/USDT', 'HOT/USDT', 'CULT/USDT', 'COTI/USDT', 'RNDR/USDT', 'MASK/USDT', 'BLOK/USDT', 'FXS/USDT', 'CEEK/USDT', 'SOL/USDT', 'DENT/USDT', 'LIFE/USDT', 'FLOKI/USDT', 'FREE/USDT', 'FIL/USDT', 'CELO/USDT', 'BGB/USDT', 'YGG/USDT', 'LDO/USDT']\n",
            "Loading markets...\n",
            "Markets loaded.\n",
            "Trading pairs: ['TRX/USDT', 'LINK/USDT', 'UNI/USDT', 'SUSHI/USDT', 'COMP/USDT', 'AAVE/USDT', 'YFI/USDT', 'DOGE/USDT', 'CHZ/USDT', 'ID/USDT', 'FAST/USDT', 'PRY/USDT', 'ARB/USDT', 'STABLZ/USDT', 'GCAKE/USDT', 'CAPS/USDT', 'TAO/USDT', 'FIS/USDT', 'GRV/USDT', 'TVK/USDT', 'BONE/USDT', 'WOOF/USDT', 'RDNT/USDT', 'GRAIL/USDT', 'AGIX/USDT', 'AI/USDT', 'IMGNAI/USDT', 'ORAI/USDT', 'ALI/USDT', 'PSI/USDT', 'ARBINU/USDT', 'ZYB/USDT', 'CORE/USDT', 'GFT/USDT', 'DPX/USDT', 'PLS/USDT', 'CAI/USDT', 'ONE/USDT', 'JONES/USDT', 'SSV/USDT', 'BFR/USDT', 'WAXL/USDT', 'THENA/USDT', 'IDEX/USDT', 'BRISE/USDT', 'INJ/USDT', 'MDAO/USDT', 'IOTX/USDT', 'CHESS/USDT', 'IQ/USDT', 'THALES/USDT', 'KEY/USDT', 'CTR/USDT', 'KOK/USDT', 'ETHF/USDT', 'HAMI/USDT', 'VELA/USDT', 'ARG/USDT', 'BLUR/USDT', 'EURT/USDT', 'GMX/USDT', 'XAUT/USDT', 'VINU/USDT', 'JPEG/USDT', 'LEVER/USDT', 'RARE/USDT', 'LIT/USDT', 'IGU/USDT', 'LOKA/USDT', 'TRU/USDT', 'LOOM/USDT', 'XEN/USDT', 'SUDO/USDT', 'BBO/USDT', 'MTL/USDT', 'ZZ/USDT', 'CFX/USDT', 'MIR/USDT', 'MDT/USDT', 'MINA/USDT', 'VELO/USDT', 'MITH/USDT', 'COCOS/USDT', 'SFP/USDT', 'OAX/USDT', 'MXC/USDT', 'MUTE/USDT', 'MFT/USDT', 'STORE/USDT', 'NU/USDT', 'NMR/USDT', 'TROVE/USDT', 'WOM/USDT', 'NEBL/USDT', 'LVL/USDT', 'OXT/USDT', 'LQTY/USDT', 'ORN/USDT', 'VSTA/USDT', 'OG/USDT', 'LYRA/USDT', 'VEMP/USDT', 'GMD/USDT', 'POLY/USDT', 'RDPX/USDT', 'LUFFY/USDT', 'PLA/USDT', 'COLLAB/USDT', 'LAT/USDT', 'POWR/USDT', 'OPX/USDT', 'OLE/USDT', 'PYR/USDT', 'PUNDIX/USDT', 'KWENTA/USDT', 'PAW/USDT', 'POND/USDT', 'LEASH/USDT', 'PROM/USDT', 'NEO/USDT', 'BNX/USDT', 'PHB/USDT', 'FLM/USDT', 'OSMO/USDT', 'OGV/USDT', 'PERL/USDT', 'QLC/USDT', 'JUNO/USDT', 'SLG/USDT', 'QKC/USDT', 'SONNE/USDT', 'ZIL/USDT', 'SYS/USDT', 'QNT/USDT', 'AZERO/USDT', 'XETA/USDT', 'ROUTE/USDT', 'KAKI/USDT', 'AURORA/USDT', 'DAO/USDT', 'REP/USDT', 'PRIME1/USDT', 'NEXO/USDT', 'CMP/USDT', 'APT/USDT', 'AMP/USDT', 'XCAD/USDT', 'SAITAMA/USDT', 'CEL/USDT', 'CSPR/USDT', 'LPT/USDT', 'SPOOL/USDT', 'PEPES/USDT', 'SNM/USDT', 'ELON/USDT', 'SNT/USDT', 'VXL/USDT', 'PAXG/USDT', 'ALPACA/USDT', 'VAI/USDT', 'VLX/USDT', 'TUP/USDT', 'STMX/USDT', 'HALO/USDT', 'VGX/USDT', 'STPT/USDT', 'OPTIMUS/USDT', 'TEL/USDT', 'ZIG/USDT', 'SUPER/USDT', 'ASTR/USDT', 'SYN/USDT', 'VELO1/USDT', 'HUB/USDT', 'T/USDT', 'STX/USDT', 'STC/USDT', 'TRB/USDT', 'PSG/USDT', 'NFT/USDT', 'FON/USDT', 'GLTR/USDT', 'TWT/USDT', 'GPT/USDT', 'ACM/USDT', 'TAMA/USDT', 'SMART/USDT', 'TUSD/USDT', 'BAR/USDT', 'THE/USDT', 'AURA1/USDT', 'VISION/USDT', 'PORTO/USDT', 'UNFI/USDT', 'BTT/USDT', 'LAZIO/USDT', 'VIB/USDT', 'GFAL/USDT', 'SANTOS/USDT', 'WAVES/USDT', 'KIN/USDT', 'GLM/USDT', 'CITY/USDT', 'XCN/USDT', 'MOVER/USDT', 'NYM/USDT', 'ASR/USDT', 'XPR/USDT', 'SOS/USDT', 'NOM/USDT', 'ATM/USDT', 'ITA/USDT', 'FOR/USDT', 'GST/USDT', 'MCRT/USDT', 'RED/USDT', 'POR/USDT', 'VT/USDT', 'CST/USDT', 'DZOO/USDT', 'RJV/USDT', 'TRIVIA/USDT', 'GDX/USDT', 'GVR/USDT', 'TEM/USDT', 'FLUX/USDT', 'JNS/USDT', 'REEF/USDT', 'PIT/USDT', 'SETF1001/USDT', 'VRA/USDT', 'INTER/USDT', 'RAD/USDT', 'HEX/USDT', 'LSD/USDT', 'MOONEY/USDT', 'TRA/USDT', 'HFT/USDT', 'OATH/USDT', 'FITFI/USDT', 'AFC/USDT', 'ARBETF/USDT', 'ROSE/USDT', 'NAP/USDT', 'RON/USDT', 'BEND/USDT', 'MENGO/USDT', 'IPOR/USDT', 'XMON/USDT', 'MOON/USDT', 'ONT/USDT', 'TSUKA/USDT', 'XEM/USDT', 'NEAR/USDT', 'WING/USDT', 'CANTO/USDT', 'ONG/USDT', 'SKEB/USDT', 'PUMLX/USDT', 'GAL/USDT', 'SWEAT/USDT', 'HOOK/USDT', 'LOOKS/USDT', 'STRM/USDT', 'LING/USDT', 'REVV/USDT', 'PRIMAL/USDT', 'DAI/USDT', 'AMPL/USDT', 'AGLD/USDT', 'KAVA/USDT', 'PEOPLE/USDT', 'HNT/USDT', 'ETHW/USDT', 'DYDX/USDT', 'OAS/USDT', 'RLY/USDT', 'PPAD/USDT', 'FET/USDT', 'CELR/USDT', 'GEAR/USDT', 'ABT/USDT', 'RACA/USDT', 'BONK/USDT', 'AERGO/USDT', 'BETA/USDT', 'SHILL/USDT', 'AKRO/USDT', 'METIS/USDT', 'KUNCI/USDT', 'MBOX/USDT', 'ACA/USDT', 'AXS/USDT', 'HIGH/USDT', 'GNS/USDT', 'APM/USDT', 'TIME/USDT', 'CUSD/USDT', 'AUCTION/USDT', 'ALPHA/USDT', 'PRIME/USDT', 'ACH/USDT', 'QRDO/USDT', 'ALPINE/USDT', 'SLP/USDT', 'BADGER/USDT', 'GALA/USDT', 'BABYDOGE/USDT', 'MULTI/USDT', 'BICO/USDT', 'DERC/USDT', 'JUV/USDT', 'WIRTUAL/USDT', 'BLZ/USDT', 'SAND/USDT', 'KLAY/USDT', 'GALFAN/USDT', 'BOND/USDT', 'ALICE/USDT', 'USDC/USDT', 'BTM/USDT', 'TLM/USDT', 'RPL/USDT', 'AUDIO/USDT', 'BURGER/USDT', 'C98/USDT', 'TLOS/USDT', 'LINA/USDT', 'ENJ/USDT', 'MANA/USDT', 'XRP/USDT', 'BTC/USDT', 'ETH/USDT', 'LTC/USDT', 'BCH/USDT', 'BAKE/USDT', 'BTCST/USDT', 'ILV/USDT', 'BORA/USDT', 'WEMIX/USDT', 'BEL/USDT', 'EDEN/USDT', 'CTSI/USDT', 'CVC/USDT', 'RSS3/USDT', 'PLEX/USDT', 'ANT/USDT', 'DFI/USDT', 'BOTTO/USDT', 'ARPA/USDT', 'DORA/USDT', 'BUSD/USDT', 'DREP/USDT', 'DUSK/USDT', 'ETC/USDT', 'EOS/USDT', 'SHIB/USDT', 'MATIC/USDT', '1INCH/USDT', 'MKR/USDT', 'REN/USDT', 'UMA/USDT', 'ZRX/USDT', 'KDA/USDT', 'ELF/USDT', 'X2Y2/USDT', 'FRONT/USDT', 'ATLAS/USDT', 'FTM/USDT', 'LUNC/USDT', 'GF/USDT', 'WOO/USDT', 'USTC/USDT', 'TAP/USDT', 'SXP/USDT', 'GHST/USDT', 'FTT/USDT', 'OP/USDT', 'GNO/USDT', 'GODS/USDT', 'WIN/USDT', 'GTC/USDT', 'UFO/USDT', 'SUN/USDT', 'EVMOS/USDT', 'GLMR/USDT', 'STARL/USDT', 'PSTAKE/USDT', 'DOT/USDT', 'AR/USDT', 'ATOM/USDT', 'IMX/USDT', 'LRC/USDT', 'BAL/USDT', 'BNT/USDT', 'CRV/USDT', 'BAT/USDT', 'YFII/USDT', 'WNXM/USDT', 'STORJ/USDT', 'SNX/USDT', 'CEUR/USDT', 'PERP/USDT', 'MOVEZ/USDT', 'LUNA/USDT', 'HOP/USDT', 'MOVR/USDT', 'AFK/USDT', 'ENS/USDT', 'WILD/USDT', 'FORT/USDT', 'POLC/USDT', 'OVR/USDT', 'QTUM/USDT', 'OMG/USDT', 'KNC/USDT', 'BAND/USDT', 'GRT/USDT', 'VOLT/USDT', 'GMT/USDT', 'BOO/USDT', 'SD/USDT', 'AVAX/USDT', 'MAGIC/USDT', 'JOE/USDT', 'ZBC/USDT', 'QUICK/USDT', 'KSM/USDT', 'WLKN/USDT', 'APE/USDT', 'EUL/USDT', 'KP3R/USDT', 'EFI/USDT', 'CYCLUB/USDT', 'EUROC/USDT', 'CRO/USDT', 'DOTR/USDT', 'OCEAN/USDT', 'NKN/USDT', 'WBTC/USDT', 'RLC/USDT', 'OGN/USDT', 'CAKE/USDT', 'BNB/USDT', 'CHR/USDT', 'ANKR/USDT', 'SRM/USDT', 'ABBC/USDT', 'XDC/USDT', 'ADA/USDT', 'RBN/USDT', 'JASMY/USDT', 'DAR/USDT', 'XYM/USDT', 'TONCOIN/USDT', 'NPT/USDT', 'GINOA/USDT', 'WND/USDT', 'BOT/USDT', 'VVS/USDT', 'RSR/USDT', 'JST/USDT', 'ICP/USDT', 'EGLD/USDT', 'KNOT/USDT', 'STG/USDT', 'CVX/USDT', 'RUNE/USDT', 'SPELL/USDT', 'RAY/USDT', 'SIN/USDT', 'BSW/USDT', 'DODO/USDT', 'HOT/USDT', 'CULT/USDT', 'COTI/USDT', 'RNDR/USDT', 'MASK/USDT', 'BLOK/USDT', 'FXS/USDT', 'CEEK/USDT', 'SOL/USDT', 'DENT/USDT', 'LIFE/USDT', 'FLOKI/USDT', 'FREE/USDT', 'FIL/USDT', 'CELO/USDT', 'BGB/USDT', 'YGG/USDT', 'LDO/USDT']\n",
            "Error getting average volume for MFT/USDT: Insufficient OHLCV data for MFT/USDT\n",
            "Error getting average volume for NU/USDT: Insufficient OHLCV data for NU/USDT\n",
            "Error getting average volume for POLY/USDT: Insufficient OHLCV data for POLY/USDT\n",
            "Error getting average volume for MFT/USDT: Insufficient OHLCV data for MFT/USDT\n",
            "Error getting average volume for NU/USDT: Insufficient OHLCV data for NU/USDT\n",
            "Error getting average volume for QLC/USDT: Error fetching OHLCV data for QLC/USDT: bitget {\"code\":\"40019\",\"msg\":\"Parameter QLCUSDT_SPBL cannot be empty\",\"requestTime\":1680803457088,\"data\":null}\n",
            "Error getting average volume for POLY/USDT: Insufficient OHLCV data for POLY/USDT\n",
            "Error getting average volume for QLC/USDT: Error fetching OHLCV data for QLC/USDT: bitget {\"code\":\"40019\",\"msg\":\"Parameter QLCUSDT_SPBL cannot be empty\",\"requestTime\":1680803462838,\"data\":null}\n"
          ]
        }
      ]
    }
  ]
}